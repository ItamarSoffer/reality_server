{
 "cells": [
  {
   "cell_type": "code",
   "execution_count": 1,
   "metadata": {},
   "outputs": [],
   "source": [
    "import sqlite3"
   ]
  },
  {
   "cell_type": "code",
   "execution_count": 2,
   "metadata": {},
   "outputs": [],
   "source": [
    "db_file = r\"C:\\Scripts\\sqlite\\timeline_db\\timeline.db\""
   ]
  },
  {
   "cell_type": "code",
   "execution_count": 3,
   "metadata": {},
   "outputs": [],
   "source": [
    "def create_connection(db_file):\n",
    "    \"\"\" create a database connection to the SQLite database\n",
    "        specified by db_file\n",
    "    :param db_file: database file\n",
    "    :return: Connection object or None\n",
    "    \"\"\"\n",
    "    conn = None\n",
    "    try:\n",
    "        conn = sqlite3.connect(db_file)\n",
    "        return conn\n",
    "    except Error as e:\n",
    "        print(e)\n",
    "\n",
    "    return conn"
   ]
  },
  {
   "cell_type": "code",
   "execution_count": 15,
   "metadata": {},
   "outputs": [],
   "source": [
    "def run(connection, query):\n",
    "    try:\n",
    "        c = connection.cursor()\n",
    "        c.execute(query)\n",
    "    except Exception as e:\n",
    "        print(e)"
   ]
  },
  {
   "cell_type": "code",
   "execution_count": 40,
   "metadata": {},
   "outputs": [],
   "source": [
    "def insert(connection, table, columns, data):\n",
    "    insertion_query = \"\"\" INSERT INTO {table_name}({columns})\n",
    "    VALUES({data})\n",
    "    \"\"\"\n",
    "    lined_columns = ','.join([str(val) for val in columns])\n",
    "    lined_data = ','.join([\"?\" for val in columns])\n",
    "    query = insertion_query.format(table_name=table,\n",
    "                          columns=lined_columns,\n",
    "                          data=lined_data)\n",
    "    try:\n",
    "        c = connection.cursor()\n",
    "        c.execute(query, data)\n",
    "        connection.commit()\n",
    "    except Exception as e:\n",
    "        print(f\"Tried to run:\\n {query}\")\n",
    "        print(f\"Error: {e}\")\n",
    "    "
   ]
  },
  {
   "cell_type": "code",
   "execution_count": 31,
   "metadata": {},
   "outputs": [],
   "source": [
    "def query(connection, query):\n",
    "    try:\n",
    "        c = connection.cursor()\n",
    "        c.execute(query)\n",
    "        \n",
    "        results = c.fetchall()\n",
    "        return results\n",
    "    except Exception as e:\n",
    "        print(e)"
   ]
  },
  {
   "cell_type": "code",
   "execution_count": 4,
   "metadata": {},
   "outputs": [],
   "source": [
    "con = create_connection(db_file)"
   ]
  },
  {
   "cell_type": "code",
   "execution_count": 18,
   "metadata": {},
   "outputs": [],
   "source": [
    "timeline_id_table_query = \"\"\"\n",
    "CREATE TABLE IF NOT EXISTS timeline_ids (\n",
    "    name text,\n",
    "    id text,\n",
    "    url text,\n",
    "    create_time text, \n",
    "    create_user text\n",
    ")\n",
    "\"\"\"\n",
    "\n",
    "timeline_events_table_query = \"\"\"\n",
    "CREATE TABLE IF NOT EXISTS events (\n",
    "    timeline_id text,\n",
    "    event_id text,\n",
    "    event_data json,\n",
    "    event_time text,\n",
    "    insertion_time text,\n",
    "    create_user text\n",
    ")\n",
    "\"\"\""
   ]
  },
  {
   "cell_type": "code",
   "execution_count": 19,
   "metadata": {},
   "outputs": [],
   "source": [
    "run(con, timeline_id_table_query)"
   ]
  },
  {
   "cell_type": "code",
   "execution_count": 22,
   "metadata": {},
   "outputs": [],
   "source": [
    "timeline_id_columns = [\"name\", \"id\", \"url\", \"create_time\", \"create_user\"]\n",
    "timeline_ids_name = \"timeline_ids\""
   ]
  },
  {
   "cell_type": "code",
   "execution_count": 29,
   "metadata": {
    "collapsed": true,
    "jupyter": {
     "outputs_hidden": true
    }
   },
   "outputs": [
    {
     "name": "stdout",
     "output_type": "stream",
     "text": [
      " INSERT INTO timeline_ids(name,id,url,create_time,create_user)\n",
      "    VALUES(?,?,?,?,?)\n",
      "    \n"
     ]
    }
   ],
   "source": [
    "insert(connection=con, \n",
    "       table=timeline_ids_name,\n",
    "      columns=timeline_id_columns,\n",
    "      data=[\"second\", 2, \"sec\", \"2020-05-08 16:00:00\", \"me\"])"
   ]
  },
  {
   "cell_type": "code",
   "execution_count": 41,
   "metadata": {},
   "outputs": [],
   "source": [
    "insert(connection=con, \n",
    "       table=timeline_ids_name,\n",
    "      columns=timeline_id_columns,\n",
    "      data=[\"third\", 3, \"third\", \"2020-05-08 15:00:00\", \"me\"])"
   ]
  },
  {
   "cell_type": "code",
   "execution_count": 30,
   "metadata": {},
   "outputs": [
    {
     "data": {
      "text/plain": [
       "<sqlite3.Connection at 0x1ed8cf8ee30>"
      ]
     },
     "execution_count": 30,
     "metadata": {},
     "output_type": "execute_result"
    }
   ],
   "source": []
  },
  {
   "cell_type": "code",
   "execution_count": 39,
   "metadata": {},
   "outputs": [
    {
     "data": {
      "text/plain": [
       "[('first_timeline\\n', '1', 'first', '2020-05-08 19:15:20', 'itamar'),\n",
       " ('second', '2', 'sec', '2020-05-08 16:00:00', 'me')]"
      ]
     },
     "execution_count": 39,
     "metadata": {},
     "output_type": "execute_result"
    }
   ],
   "source": [
    "query(con, \"SELECT * FROM timeline_ids\")"
   ]
  },
  {
   "cell_type": "code",
   "execution_count": 37,
   "metadata": {},
   "outputs": [],
   "source": [
    "con.commit()"
   ]
  },
  {
   "cell_type": "code",
   "execution_count": null,
   "metadata": {},
   "outputs": [],
   "source": []
  }
 ],
 "metadata": {
  "kernelspec": {
   "display_name": "Python 3",
   "language": "python",
   "name": "python3"
  },
  "language_info": {
   "codemirror_mode": {
    "name": "ipython",
    "version": 3
   },
   "file_extension": ".py",
   "mimetype": "text/x-python",
   "name": "python",
   "nbconvert_exporter": "python",
   "pygments_lexer": "ipython3",
   "version": "3.7.6"
  }
 },
 "nbformat": 4,
 "nbformat_minor": 4
}
